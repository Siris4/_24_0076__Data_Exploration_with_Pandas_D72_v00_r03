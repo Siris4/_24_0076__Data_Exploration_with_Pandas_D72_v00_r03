{
 "cells": [
  {
   "cell_type": "code",
   "execution_count": 59,
   "id": "da6e2cfa-e288-45e1-81b9-027506d2e93b",
   "metadata": {},
   "outputs": [
    {
     "name": "stdout",
     "output_type": "stream",
     "text": [
      "             Spread  Starting Median Salary  Mid-Career Median Salary  \\\n",
      "Group                                                                   \n",
      "Business 103,958.33               44,633.33                 75,083.33   \n",
      "HASS      95,218.18               37,186.36                 62,968.18   \n",
      "STEM     101,600.00               53,862.50                 90,812.50   \n",
      "\n",
      "          Mid-Career 10th Percentile Salary  Mid-Career 90th Percentile Salary  \n",
      "Group                                                                           \n",
      "Business                          43,566.67                         147,525.00  \n",
      "HASS                              34,145.45                         129,363.64  \n",
      "STEM                              56,025.00                         157,625.00  \n"
     ]
    }
   ],
   "source": [
    "import pandas as pd\n",
    "\n",
    "# Change directory if the file is in a different location\n",
    "import os\n",
    "os.chdir('C:/Users/Siris/Desktop/GitHub Projects 100 Days NewB/_24_0076__Day72_Data Exploration with Pandas_College Major__240807/NewProject/r00-r09 START/r00_env_START')\n",
    "\n",
    "# Now read the CSV file\n",
    "df = pd.read_csv('salaries_by_college_major.csv')\n",
    "\n",
    "# Display the first few rows\n",
    "#df.tail()\n",
    "\n",
    "clean_df = df.dropna()\n",
    "#clean_df.tail()\n",
    "\n",
    "#clean_df['Mid-Career Median Salary'].idxmin()\n",
    "#clean_df['Starting Median Salary'].idxmax()\n",
    "#clean_df.loc[18]\n",
    "#clean_df.loc[clean_df['Mid-Career Median Salary'].idxmin()]\n",
    "#clean_df['Mid-Career 90th Percentile Salary'] - clean_df['Mid-Career 10th Percentile Salary']\n",
    "\n",
    "spread_col = clean_df['Mid-Career 90th Percentile Salary'] - clean_df['Mid-Career 10th Percentile Salary']\n",
    "clean_df.insert(1, 'Spread', spread_col)\n",
    "clean_df.head()\n",
    "\n",
    "#low_risk = clean_df.sort_values('Spread')\n",
    "#low_risk[['Undergraduate Major', 'Spread']].head()\n",
    "\n",
    "#high_risk = clean_df.sort_values('Spread')\n",
    "#high_risk[['Undergraduate Major', 'Spread']].head()\n",
    "\n",
    "#top_5_degrees = clean_df.sort_values(by='Mid-Career 90th Percentile Salary', ascending=False).head(5)\n",
    "#print(top_5_degrees)\n",
    "\n",
    "#greatest_spread = clean_df.sort_values(by='Mid-Career 90th Percentile Salary', ascending=False).head(5)\n",
    "#print(top_5_degrees)\n",
    "\n",
    "#largest_spread_degrees = clean_df.sort_values(by='Spread', ascending=False).head(5)\n",
    "#print(largest_spread_degrees)\n",
    "\n",
    "#clean_df.groupby('Group').count()\n",
    "#mean_group = clean_df.groupby('Group').mean()\n",
    "#print(mean_group)\n",
    "\n",
    "# Select only numeric columns for the mean calculation\n",
    "numeric_columns = clean_df.select_dtypes(include='number')\n",
    "\n",
    "# Group by 'Group' and calculate the mean for numeric columns\n",
    "pd.options.display.float_format = '{:,.2f}'.format \n",
    "mean_group = clean_df.groupby('Group')[numeric_columns.columns].mean()\n",
    "\n",
    "print(mean_group)\n",
    "\n"
   ]
  },
  {
   "cell_type": "code",
   "execution_count": null,
   "id": "ece09ec5-821b-48dd-93a9-70dad2f6cfb6",
   "metadata": {},
   "outputs": [],
   "source": []
  }
 ],
 "metadata": {
  "kernelspec": {
   "display_name": "Python 3 (ipykernel)",
   "language": "python",
   "name": "python3"
  },
  "language_info": {
   "codemirror_mode": {
    "name": "ipython",
    "version": 3
   },
   "file_extension": ".py",
   "mimetype": "text/x-python",
   "name": "python",
   "nbconvert_exporter": "python",
   "pygments_lexer": "ipython3",
   "version": "3.12.4"
  }
 },
 "nbformat": 4,
 "nbformat_minor": 5
}
